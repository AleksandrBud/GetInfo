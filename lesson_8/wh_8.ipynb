{
 "cells": [
  {
   "cell_type": "code",
   "execution_count": 1,
   "metadata": {},
   "outputs": [],
   "source": [
    "import pandas as pd\n",
    "import numpy as np\n",
    "import matplotlib.pyplot as plt"
   ]
  },
  {
   "cell_type": "markdown",
   "metadata": {},
   "source": [
    "1. Создать приложение, которое будет из готового файла с данными «Сбербанка» выводить результат по параметрам:\n",
    "    - Тип данных\n",
    "    - Интервал дат\n",
    "    - Область\n",
    "2. Визуализировать выводимые данные с помощью графика"
   ]
  },
  {
   "cell_type": "code",
   "execution_count": 2,
   "metadata": {},
   "outputs": [],
   "source": [
    "df = pd.read_csv('opendata.csv', encoding = 'windows-1251')\n",
    "df_type = df.groupby(['name'], as_index=False).agg({'region':'max'})\n",
    "df_region = df.groupby(['region'], as_index=False).agg({'name':'max'})"
   ]
  },
  {
   "cell_type": "code",
   "execution_count": 3,
   "metadata": {},
   "outputs": [
    {
     "name": "stdout",
     "output_type": "stream",
     "text": [
      "0             В среднем депозитов в руб. на человека\n",
      "1        В среднем руб. на текущем счете на человека\n",
      "2             Количество заявок на ипотечные кредиты\n",
      "3       Количество заявок на потребительские кредиты\n",
      "4                         Количество новых депозитов\n",
      "5                          Средние расходы по картам\n",
      "6                          Средние траты в ресторане\n",
      "7                  Средние траты в ресторане фастфуд\n",
      "8                     Средний чек в формате Ресторан\n",
      "9                      Средний чек в формате Фастфуд\n",
      "10                                  Средняя зарплата\n",
      "11                                    Средняя пенсия\n",
      "12          Средняя сумма заявки на ипотечный кредит\n",
      "13    Средняя сумма заявки на потребительский кредит\n",
      "14                     Средняя сумма нового депозита\n",
      "Name: name, dtype: object\n",
      "Выбирите тип данных:2\n"
     ]
    }
   ],
   "source": [
    "print(df_type['name'])\n",
    "type_int = int(input('Выбирите тип данных:'))"
   ]
  },
  {
   "cell_type": "code",
   "execution_count": 4,
   "metadata": {},
   "outputs": [
    {
     "name": "stdout",
     "output_type": "stream",
     "text": [
      "0                               Алтайский край\n",
      "1                             Амурская область\n",
      "2                        Архангельская область\n",
      "3                         Астраханская область\n",
      "4                         Белгородская область\n",
      "5                             Брянская область\n",
      "6                         Владимирская область\n",
      "7                        Волгоградская область\n",
      "8                          Вологодская область\n",
      "9                          Воронежская область\n",
      "10                Еврейская автономная область\n",
      "11                          Забайкальский край\n",
      "12                          Ивановская область\n",
      "13                           Иркутская область\n",
      "14             Кабардино-Балкарская Республика\n",
      "15                     Калининградская область\n",
      "16                           Калужская область\n",
      "17                             Камчатский край\n",
      "18                         Кемеровская область\n",
      "19                           Кировская область\n",
      "20                         Костромская область\n",
      "21                          Краснодарский край\n",
      "22                           Красноярский край\n",
      "23                          Курганская область\n",
      "24                             Курская область\n",
      "25                       Ленинградская область\n",
      "26                            Липецкая область\n",
      "27                         Магаданская область\n",
      "28                                      Москва\n",
      "29                          Московская область\n",
      "                        ...                   \n",
      "54                    Республика Саха (Якутия)\n",
      "55           Республика Северная Осетия-Алания\n",
      "56                        Республика Татарстан\n",
      "57                             Республика Тыва\n",
      "58                          Республика Хакасия\n",
      "59                                      Россия\n",
      "60                          Ростовская область\n",
      "61                           Рязанская область\n",
      "62                           Самарская область\n",
      "63                             Санкт-Петербург\n",
      "64                         Саратовская область\n",
      "65                         Сахалинская область\n",
      "66                        Свердловская область\n",
      "67                          Смоленская область\n",
      "68                         Ставропольский край\n",
      "69                          Тамбовская область\n",
      "70                            Тверская область\n",
      "71                             Томская область\n",
      "72                            Тульская область\n",
      "73                           Тюменская область\n",
      "74                       Удмуртская Республика\n",
      "75                         Ульяновская область\n",
      "76                            Хабаровский край\n",
      "77    Ханты-Мансийский автономный округ — Югра\n",
      "78                         Челябинская область\n",
      "79                        Чеченская Республика\n",
      "80                        Чувашская Республика\n",
      "81                  Чукотский автономный округ\n",
      "82             Ямало-Ненецкий автономный округ\n",
      "83                         Ярославская область\n",
      "Name: region, Length: 84, dtype: object\n",
      "Выбирите регион:72\n"
     ]
    }
   ],
   "source": [
    "print(df_region['region'])\n",
    "region_int = int(input('Выбирите регион:'))"
   ]
  },
  {
   "cell_type": "code",
   "execution_count": 5,
   "metadata": {},
   "outputs": [
    {
     "name": "stdout",
     "output_type": "stream",
     "text": [
      "Введите желаемый диапазон дат в формате(yyyy-mm-dd):\n",
      "с :2014-01-01\n",
      "по :2014-12-31\n"
     ]
    }
   ],
   "source": [
    "print('Введите желаемый диапазон дат в формате(yyyy-mm-dd):')\n",
    "date_from = input('с :')\n",
    "date_to = input('по :')"
   ]
  },
  {
   "cell_type": "code",
   "execution_count": 6,
   "metadata": {},
   "outputs": [],
   "source": [
    "df_user = df.query(\"name == '\" + df_type['name'][type_int]\n",
    "                   + \"' and region == '\" + df_region['region'][region_int] \n",
    "                   + \"' and date >= '\" + date_from \n",
    "                   + \"' and date <= '\" + date_to + \"'\")"
   ]
  },
  {
   "cell_type": "code",
   "execution_count": 7,
   "metadata": {},
   "outputs": [
    {
     "data": {
      "text/html": [
       "<div>\n",
       "<style scoped>\n",
       "    .dataframe tbody tr th:only-of-type {\n",
       "        vertical-align: middle;\n",
       "    }\n",
       "\n",
       "    .dataframe tbody tr th {\n",
       "        vertical-align: top;\n",
       "    }\n",
       "\n",
       "    .dataframe thead th {\n",
       "        text-align: right;\n",
       "    }\n",
       "</style>\n",
       "<table border=\"1\" class=\"dataframe\">\n",
       "  <thead>\n",
       "    <tr style=\"text-align: right;\">\n",
       "      <th></th>\n",
       "      <th>name</th>\n",
       "      <th>region</th>\n",
       "      <th>date</th>\n",
       "      <th>value</th>\n",
       "    </tr>\n",
       "  </thead>\n",
       "  <tbody>\n",
       "    <tr>\n",
       "      <th>17531</th>\n",
       "      <td>Количество заявок на ипотечные кредиты</td>\n",
       "      <td>Тульская область</td>\n",
       "      <td>2014-01-15</td>\n",
       "      <td>721</td>\n",
       "    </tr>\n",
       "    <tr>\n",
       "      <th>17532</th>\n",
       "      <td>Количество заявок на ипотечные кредиты</td>\n",
       "      <td>Тульская область</td>\n",
       "      <td>2014-02-15</td>\n",
       "      <td>970</td>\n",
       "    </tr>\n",
       "    <tr>\n",
       "      <th>17533</th>\n",
       "      <td>Количество заявок на ипотечные кредиты</td>\n",
       "      <td>Тульская область</td>\n",
       "      <td>2014-03-15</td>\n",
       "      <td>1089</td>\n",
       "    </tr>\n",
       "    <tr>\n",
       "      <th>17534</th>\n",
       "      <td>Количество заявок на ипотечные кредиты</td>\n",
       "      <td>Тульская область</td>\n",
       "      <td>2014-04-15</td>\n",
       "      <td>1154</td>\n",
       "    </tr>\n",
       "    <tr>\n",
       "      <th>17535</th>\n",
       "      <td>Количество заявок на ипотечные кредиты</td>\n",
       "      <td>Тульская область</td>\n",
       "      <td>2014-05-15</td>\n",
       "      <td>1065</td>\n",
       "    </tr>\n",
       "    <tr>\n",
       "      <th>17536</th>\n",
       "      <td>Количество заявок на ипотечные кредиты</td>\n",
       "      <td>Тульская область</td>\n",
       "      <td>2014-06-15</td>\n",
       "      <td>1131</td>\n",
       "    </tr>\n",
       "    <tr>\n",
       "      <th>17537</th>\n",
       "      <td>Количество заявок на ипотечные кредиты</td>\n",
       "      <td>Тульская область</td>\n",
       "      <td>2014-07-15</td>\n",
       "      <td>1002</td>\n",
       "    </tr>\n",
       "    <tr>\n",
       "      <th>17538</th>\n",
       "      <td>Количество заявок на ипотечные кредиты</td>\n",
       "      <td>Тульская область</td>\n",
       "      <td>2014-08-15</td>\n",
       "      <td>1074</td>\n",
       "    </tr>\n",
       "    <tr>\n",
       "      <th>17539</th>\n",
       "      <td>Количество заявок на ипотечные кредиты</td>\n",
       "      <td>Тульская область</td>\n",
       "      <td>2014-09-15</td>\n",
       "      <td>1266</td>\n",
       "    </tr>\n",
       "    <tr>\n",
       "      <th>17540</th>\n",
       "      <td>Количество заявок на ипотечные кредиты</td>\n",
       "      <td>Тульская область</td>\n",
       "      <td>2014-10-15</td>\n",
       "      <td>1379</td>\n",
       "    </tr>\n",
       "    <tr>\n",
       "      <th>17541</th>\n",
       "      <td>Количество заявок на ипотечные кредиты</td>\n",
       "      <td>Тульская область</td>\n",
       "      <td>2014-11-15</td>\n",
       "      <td>1228</td>\n",
       "    </tr>\n",
       "    <tr>\n",
       "      <th>17542</th>\n",
       "      <td>Количество заявок на ипотечные кредиты</td>\n",
       "      <td>Тульская область</td>\n",
       "      <td>2014-12-15</td>\n",
       "      <td>1848</td>\n",
       "    </tr>\n",
       "  </tbody>\n",
       "</table>\n",
       "</div>"
      ],
      "text/plain": [
       "                                         name            region        date  \\\n",
       "17531  Количество заявок на ипотечные кредиты  Тульская область  2014-01-15   \n",
       "17532  Количество заявок на ипотечные кредиты  Тульская область  2014-02-15   \n",
       "17533  Количество заявок на ипотечные кредиты  Тульская область  2014-03-15   \n",
       "17534  Количество заявок на ипотечные кредиты  Тульская область  2014-04-15   \n",
       "17535  Количество заявок на ипотечные кредиты  Тульская область  2014-05-15   \n",
       "17536  Количество заявок на ипотечные кредиты  Тульская область  2014-06-15   \n",
       "17537  Количество заявок на ипотечные кредиты  Тульская область  2014-07-15   \n",
       "17538  Количество заявок на ипотечные кредиты  Тульская область  2014-08-15   \n",
       "17539  Количество заявок на ипотечные кредиты  Тульская область  2014-09-15   \n",
       "17540  Количество заявок на ипотечные кредиты  Тульская область  2014-10-15   \n",
       "17541  Количество заявок на ипотечные кредиты  Тульская область  2014-11-15   \n",
       "17542  Количество заявок на ипотечные кредиты  Тульская область  2014-12-15   \n",
       "\n",
       "       value  \n",
       "17531    721  \n",
       "17532    970  \n",
       "17533   1089  \n",
       "17534   1154  \n",
       "17535   1065  \n",
       "17536   1131  \n",
       "17537   1002  \n",
       "17538   1074  \n",
       "17539   1266  \n",
       "17540   1379  \n",
       "17541   1228  \n",
       "17542   1848  "
      ]
     },
     "execution_count": 7,
     "metadata": {},
     "output_type": "execute_result"
    }
   ],
   "source": [
    "df_user"
   ]
  },
  {
   "cell_type": "code",
   "execution_count": 8,
   "metadata": {},
   "outputs": [
    {
     "name": "stderr",
     "output_type": "stream",
     "text": [
      "/home/aleksandr/anaconda3/lib/python3.7/site-packages/ipykernel_launcher.py:1: SettingWithCopyWarning: \n",
      "A value is trying to be set on a copy of a slice from a DataFrame.\n",
      "Try using .loc[row_indexer,col_indexer] = value instead\n",
      "\n",
      "See the caveats in the documentation: http://pandas.pydata.org/pandas-docs/stable/indexing.html#indexing-view-versus-copy\n",
      "  \"\"\"Entry point for launching an IPython kernel.\n",
      "/home/aleksandr/anaconda3/lib/python3.7/site-packages/pandas/plotting/_converter.py:129: FutureWarning: Using an implicitly registered datetime converter for a matplotlib plotting method. The converter was registered by pandas on import. Future versions of pandas will require you to explicitly register matplotlib converters.\n",
      "\n",
      "To register the converters:\n",
      "\t>>> from pandas.plotting import register_matplotlib_converters\n",
      "\t>>> register_matplotlib_converters()\n",
      "  warnings.warn(msg, FutureWarning)\n"
     ]
    },
    {
     "data": {
      "text/plain": [
       "[<matplotlib.lines.Line2D at 0x7fac60cda3c8>]"
      ]
     },
     "execution_count": 8,
     "metadata": {},
     "output_type": "execute_result"
    },
    {
     "data": {
      "image/png": "[encoded data removed]",
      "text/plain": [
       "<Figure size 432x288 with 1 Axes>"
      ]
     },
     "metadata": {
      "needs_background": "light"
     },
     "output_type": "display_data"
    }
   ],
   "source": [
    "df_user['date'] = pd.to_datetime(df_user['date'], format='%Y-%m-%d')\n",
    "plt.title(df_type['name'][type_int] + ' в ' \n",
    "          + df_region['region'][region_int] \n",
    "          + ' с ' + date_from \n",
    "          + ' по ' + date_to)\n",
    "plt.xlabel(\"Дата\")\n",
    "plt.ylabel(\"Сумма\")\n",
    "plt.plot(df_user['date'], df_user['value'], 'bo-')"
   ]
  },
  {
   "cell_type": "code",
   "execution_count": null,
   "metadata": {},
   "outputs": [],
   "source": []
  }
 ],
 "metadata": {
  "kernelspec": {
   "display_name": "Python 3",
   "language": "python",
   "name": "python3"
  },
  "language_info": {
   "codemirror_mode": {
    "name": "ipython",
    "version": 3
   },
   "file_extension": ".py",
   "mimetype": "text/x-python",
   "name": "python",
   "nbconvert_exporter": "python",
   "pygments_lexer": "ipython3",
   "version": "3.7.3"
  }
 },
 "nbformat": 4,
 "nbformat_minor": 2
}
